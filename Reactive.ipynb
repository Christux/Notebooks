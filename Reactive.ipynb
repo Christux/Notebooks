{
 "cells": [
  {
   "cell_type": "markdown",
   "metadata": {},
   "source": [
    "# Simple implementation of reactive patterns in Python"
   ]
  },
  {
   "cell_type": "code",
   "execution_count": 1,
   "metadata": {},
   "outputs": [],
   "source": [
    "from typing import Callable, List, TypeVar, Generic, Optional, Any, Iterable\n",
    "import threading\n",
    "from time import sleep"
   ]
  },
  {
   "cell_type": "markdown",
   "metadata": {},
   "source": [
    "## Base classes"
   ]
  },
  {
   "cell_type": "markdown",
   "metadata": {},
   "source": [
    "### Some needed types"
   ]
  },
  {
   "cell_type": "code",
   "execution_count": 2,
   "metadata": {},
   "outputs": [],
   "source": [
    "T = TypeVar(\"T\")\n",
    "U = TypeVar(\"U\")\n",
    "V = TypeVar(\"V\")\n",
    "\n",
    "NextCallback = Optional[Callable[[T], None]]\n",
    "ErrorCallback = Optional[Callable[[Exception], None]]\n",
    "CompleteCallback = Optional[Callable[[], None]]"
   ]
  },
  {
   "cell_type": "markdown",
   "metadata": {},
   "source": [
    "### Observer"
   ]
  },
  {
   "cell_type": "code",
   "execution_count": 3,
   "metadata": {},
   "outputs": [],
   "source": [
    "class Observer(Generic[T]):\n",
    "\n",
    "    def __init__(\n",
    "            self,\n",
    "            next: NextCallback = None,\n",
    "            error: ErrorCallback = None,\n",
    "            complete: CompleteCallback = None):\n",
    "        super().__init__()\n",
    "        self._next = next\n",
    "        self._error = error\n",
    "        self._complete = complete\n",
    "    \n",
    "    def next(self, value: T) -> None:\n",
    "        if self._next is not None:\n",
    "            self._next(value)\n",
    "\n",
    "    def error(self, error: Exception) -> None:\n",
    "        if self._error is not None:\n",
    "            self._error(error)\n",
    "\n",
    "    def complete(self) -> None:\n",
    "        if self._complete is not None:\n",
    "            self._complete()"
   ]
  },
  {
   "cell_type": "markdown",
   "metadata": {},
   "source": [
    "### Subscription"
   ]
  },
  {
   "cell_type": "code",
   "execution_count": 4,
   "metadata": {},
   "outputs": [],
   "source": [
    "class Subscription:\n",
    "\n",
    "    def __init__(self, dispose: Callable[[], None]):\n",
    "        self._dispose = dispose\n",
    "\n",
    "    def dispose(self) -> None:\n",
    "        self._dispose()"
   ]
  },
  {
   "cell_type": "markdown",
   "metadata": {},
   "source": [
    "### Observable"
   ]
  },
  {
   "cell_type": "code",
   "execution_count": 5,
   "metadata": {},
   "outputs": [],
   "source": [
    "class Observable(Generic[T]):\n",
    "\n",
    "    def __init__(self, subscribe: Callable[[Observer[T]], Subscription]):\n",
    "        super().__init__()\n",
    "        self._subscribe = subscribe\n",
    "\n",
    "    def subscribe(\n",
    "            self,\n",
    "            next: NextCallback = None,\n",
    "            error: ErrorCallback = None,\n",
    "            complete: CompleteCallback = None) -> Subscription:\n",
    "        \n",
    "        return self._subscribe(\n",
    "            Observer(next=next, error=error, complete=complete)\n",
    "        )\n",
    "    \n",
    "    def take(self, n: int) -> 'Observable[T]': # type: ignore\n",
    "        pass\n",
    "    \n",
    "    def map(self, func: Callable[[T], U]) -> 'Observable[U]': # type: ignore\n",
    "        pass\n",
    "\n",
    "    def filter(self, test: Callable[[T], bool]) -> 'Observable[T]': # type: ignore\n",
    "        pass\n",
    "\n",
    "    def do(\n",
    "        self,\n",
    "        next: NextCallback = None,\n",
    "        error: ErrorCallback = None,\n",
    "        complete: CompleteCallback = None) -> 'Observable[T]': # type: ignore\n",
    "        pass"
   ]
  },
  {
   "cell_type": "markdown",
   "metadata": {},
   "source": [
    "### Subject"
   ]
  },
  {
   "cell_type": "code",
   "execution_count": 6,
   "metadata": {},
   "outputs": [],
   "source": [
    "class Subject(Generic[T]):\n",
    "\n",
    "    def __init__(self):\n",
    "        super().__init__()\n",
    "        self._observers: List[Observer[T]] = []\n",
    "\n",
    "    def next(self, value: T) -> None:\n",
    "        for observer in self._observers:\n",
    "            observer.next(value=value)\n",
    "\n",
    "    def error(self, error: Exception) -> None:\n",
    "        for observer in self._observers:\n",
    "            observer.error(error=error)\n",
    "\n",
    "    def complete(self) -> None:\n",
    "        for observer in self._observers:\n",
    "            observer.complete()\n",
    "\n",
    "    def asObservable(self) -> 'Observable[T]':\n",
    "\n",
    "        def _subscribe(observer: Observer[T]) -> Subscription:\n",
    "            return self.subscribe(\n",
    "                next=observer.next,\n",
    "                error=observer.error,\n",
    "                complete=observer.complete\n",
    "            )\n",
    "\n",
    "        return Observable(subscribe=_subscribe)\n",
    "    \n",
    "    def subscribe(\n",
    "            self,\n",
    "            next: NextCallback = None,\n",
    "            error: ErrorCallback = None,\n",
    "            complete: CompleteCallback = None) -> Subscription:\n",
    "        \n",
    "        observer = Observer(next=next, error=error, complete=complete)\n",
    "        self._observers.append(observer)\n",
    "\n",
    "        def _remove() -> None:\n",
    "            if observer in self._observers:\n",
    "                self._observers.remove(observer)\n",
    "        \n",
    "        return Subscription(dispose=_remove)"
   ]
  },
  {
   "cell_type": "markdown",
   "metadata": {},
   "source": [
    "## Operators"
   ]
  },
  {
   "cell_type": "markdown",
   "metadata": {},
   "source": [
    "### Take\n",
    "\n",
    "Takes n first values then disposes the source observable\n",
    "\n",
    "0-1-2-3-4-5--->\n",
    " \n",
    "  take(3)\n",
    " \n",
    "0-1-2-|------->"
   ]
  },
  {
   "cell_type": "code",
   "execution_count": 7,
   "metadata": {},
   "outputs": [],
   "source": [
    "def __take(self: Observable[T], n: int) -> Observable[T]:\n",
    "\n",
    "    source = self\n",
    "    \n",
    "    def _subscribe(observer: Observer[T]) -> Subscription:\n",
    "        \n",
    "        def _next(value: T) -> None:\n",
    "            nonlocal i\n",
    "            \n",
    "            if i < n:\n",
    "                observer.next(value=value)\n",
    "                i += 1\n",
    "\n",
    "                if i == n:\n",
    "                    #observer.complete()\n",
    "                    subscription.dispose()\n",
    "\n",
    "        i = 0\n",
    "\n",
    "        subscription = source.subscribe(\n",
    "            next=_next,\n",
    "            error=observer.error,\n",
    "            complete=observer.complete\n",
    "        )\n",
    "\n",
    "        return Subscription(dispose=subscription.dispose)\n",
    "\n",
    "    return Observable(subscribe=_subscribe)\n",
    "\n",
    "Observable.take = __take"
   ]
  },
  {
   "cell_type": "markdown",
   "metadata": {},
   "source": [
    "### Map\n",
    "\n",
    "Maps each resulting value from stream\n",
    "\n",
    "0-1-2-3-4-5--->\n",
    " \n",
    "map(x -> x * 2)\n",
    " \n",
    "0-2-4-6-8-10--->"
   ]
  },
  {
   "cell_type": "code",
   "execution_count": 8,
   "metadata": {},
   "outputs": [],
   "source": [
    "def __map(self: Observable[T], func: Callable[[T], U]) -> Observable[U]:\n",
    "\n",
    "    source = self\n",
    "\n",
    "    def _subscribe(observer: Observer[U]) -> Subscription:\n",
    "        \n",
    "        def _next(value: T) -> None:\n",
    "            observer.next(value=func(value))\n",
    "\n",
    "        subscription = source.subscribe(\n",
    "            next=_next,\n",
    "            error=observer.error,\n",
    "            complete=observer.complete\n",
    "        )\n",
    "\n",
    "        return Subscription(dispose=subscription.dispose)\n",
    "\n",
    "    return Observable(subscribe=_subscribe)\n",
    "\n",
    "Observable.map = __map"
   ]
  },
  {
   "cell_type": "markdown",
   "metadata": {},
   "source": [
    "### Filter\n",
    "\n",
    "Filters value from source stream\n",
    "\n",
    "-5-9-2-7-3-4---->\n",
    "\n",
    "filter(x -> x > 4)\n",
    " \n",
    "-5-9---7-------->"
   ]
  },
  {
   "cell_type": "code",
   "execution_count": 9,
   "metadata": {},
   "outputs": [],
   "source": [
    "def __filter(self: Observable[T], test: Callable[[T], bool]) -> Observable[T]:\n",
    "\n",
    "    source = self\n",
    "\n",
    "    def _subscribe(observer: Observer[T]) -> Subscription:\n",
    "        \n",
    "        def _next(value: T) -> None:\n",
    "            if test(value):\n",
    "                observer.next(value=value)\n",
    "\n",
    "        subscription = source.subscribe(\n",
    "            next=_next,\n",
    "            error=observer.error,\n",
    "            complete=observer.complete\n",
    "        )\n",
    "\n",
    "        return Subscription(dispose=subscription.dispose)\n",
    "\n",
    "    return Observable(subscribe=_subscribe)\n",
    "\n",
    "Observable.filter = __filter"
   ]
  },
  {
   "cell_type": "markdown",
   "metadata": {},
   "source": [
    "### Do\n",
    "\n",
    "Do something on each value from stream without modifying the stream\n",
    "\n",
    "0-1-2-3-4-5--->\n",
    "\n",
    "do(x -> console.log(x))\n",
    "\n",
    "0-1-2-3-4-5--->"
   ]
  },
  {
   "cell_type": "code",
   "execution_count": 10,
   "metadata": {},
   "outputs": [],
   "source": [
    "def __do(\n",
    "        self: Observable[T],\n",
    "        next: NextCallback = None,\n",
    "        error: ErrorCallback = None,\n",
    "        complete: CompleteCallback = None) -> Observable[T]:\n",
    "    \n",
    "    source = self\n",
    "\n",
    "    to_do = Observer(\n",
    "        next=next,\n",
    "        error=error,\n",
    "        complete=complete\n",
    "    )\n",
    "\n",
    "    def _subscribe(observer: Observer[T]) -> Subscription:\n",
    "        \n",
    "        def _next(value: T) -> None:\n",
    "            to_do.next(value=value)\n",
    "            observer.next(value=value)\n",
    "\n",
    "        def _error(error: Exception) -> None:\n",
    "            to_do.error(error=error)\n",
    "            observer.error(error=error)\n",
    "\n",
    "        def _complete() -> None:\n",
    "            to_do.complete()\n",
    "            observer.complete()\n",
    "\n",
    "        subscription = source.subscribe(\n",
    "            next=_next,\n",
    "            error=_error,\n",
    "            complete=_complete\n",
    "        )\n",
    "\n",
    "        return Subscription(dispose=subscription.dispose)\n",
    "\n",
    "    return Observable(subscribe=_subscribe)\n",
    "\n",
    "Observable.do = __do"
   ]
  },
  {
   "cell_type": "markdown",
   "metadata": {},
   "source": [
    "## Generators"
   ]
  },
  {
   "cell_type": "markdown",
   "metadata": {},
   "source": [
    "### Empty\n",
    "\n",
    "Returns an observable that completes imediately (empty stream)\n",
    "\n",
    "-|---------------->"
   ]
  },
  {
   "cell_type": "code",
   "execution_count": 11,
   "metadata": {},
   "outputs": [],
   "source": [
    "def empty() -> Observable[Any]:\n",
    "\n",
    "    def _subscribe(observer: Observer[Any]) -> Subscription:\n",
    "        \n",
    "        def _dispose() -> None:\n",
    "            nonlocal is_disposed\n",
    "            is_disposed = True\n",
    "\n",
    "        is_disposed = False\n",
    "\n",
    "        try:\n",
    "            observer.complete()\n",
    "        except Exception as e:\n",
    "            observer.error(e)\n",
    "\n",
    "        return Subscription(dispose=_dispose)\n",
    "\n",
    "    return Observable(subscribe=_subscribe)"
   ]
  },
  {
   "cell_type": "markdown",
   "metadata": {},
   "source": [
    "### Of\n",
    "\n",
    "Creates an one valued stream\n",
    "\n",
    "of(5)\n",
    "\n",
    "-5-|------------------>"
   ]
  },
  {
   "cell_type": "code",
   "execution_count": 12,
   "metadata": {},
   "outputs": [],
   "source": [
    "def of(value: T) -> Observable[T]:\n",
    "\n",
    "    def _subscribe(observer: Observer[T]) -> Subscription:\n",
    "        \n",
    "        def _dispose() -> None:\n",
    "            nonlocal is_disposed\n",
    "            is_disposed = True\n",
    "\n",
    "        is_disposed = False\n",
    "\n",
    "        try:\n",
    "            observer.next(value=value)\n",
    "            observer.complete()\n",
    "        except Exception as e:\n",
    "            observer.error(e)\n",
    "\n",
    "        return Subscription(dispose=_dispose)\n",
    "\n",
    "    return Observable(subscribe=_subscribe)"
   ]
  },
  {
   "cell_type": "markdown",
   "metadata": {},
   "source": [
    "### From Iterable\n",
    "\n",
    "Creates a stream from an iterable\n",
    "\n",
    "from_iterable([3,8,5,1])\n",
    "\n",
    "-3-8-5-1-|-------->"
   ]
  },
  {
   "cell_type": "code",
   "execution_count": 13,
   "metadata": {},
   "outputs": [],
   "source": [
    "def from_iterable(iterable: Iterable[T]) -> Observable[T]:\n",
    "    \n",
    "    def _subscribe(observer: Observer[T]) -> Subscription:\n",
    "        \n",
    "        def _dispose() -> None:\n",
    "            nonlocal is_disposed\n",
    "            is_disposed = True\n",
    "        \n",
    "        def run() -> None:\n",
    "            try:\n",
    "                for value in iterable:\n",
    "                    observer.next(value=value)\n",
    "                observer.complete()\n",
    "            except Exception as e:\n",
    "                observer.error(e)\n",
    "\n",
    "        is_disposed = False\n",
    "\n",
    "        threading.Thread(target=run).start()\n",
    "\n",
    "        return Subscription(dispose=_dispose)\n",
    "\n",
    "    return Observable(subscribe=_subscribe)"
   ]
  },
  {
   "cell_type": "markdown",
   "metadata": {},
   "source": [
    "### From Range\n",
    "\n",
    "Creates a stream from a range\n",
    "\n",
    "range(4,8)\n",
    "\n",
    "-4-5-6-7-8-|--->"
   ]
  },
  {
   "cell_type": "code",
   "execution_count": 14,
   "metadata": {},
   "outputs": [],
   "source": [
    "def from_range(start: int, stop: int, step: int = 1) -> Observable[int]:\n",
    "    return from_iterable(range(start, stop, step))"
   ]
  },
  {
   "cell_type": "markdown",
   "metadata": {},
   "source": [
    "### Creates a stream from interval\n",
    "\n",
    "-0-1-2-3-4-5-6----->"
   ]
  },
  {
   "cell_type": "code",
   "execution_count": 15,
   "metadata": {},
   "outputs": [],
   "source": [
    "def from_interval(period: int) -> Observable[int]:\n",
    "    \n",
    "    def _subscribe(observer: Observer[int]) -> Subscription:\n",
    "        \n",
    "        def _dispose() -> None:\n",
    "            nonlocal is_disposed\n",
    "            is_disposed = True\n",
    "        \n",
    "        def run() -> None:\n",
    "            nonlocal i\n",
    "\n",
    "            try:\n",
    "                while is_disposed == False:\n",
    "                    observer.next(value=i)\n",
    "                    i += 1\n",
    "                    sleep(period)\n",
    "                observer.complete()\n",
    "            except Exception as e:\n",
    "                observer.error(e)\n",
    "\n",
    "        i = 0\n",
    "        is_disposed = False\n",
    "\n",
    "        threading.Thread(target=run).start()\n",
    "\n",
    "        return Subscription(dispose=_dispose)\n",
    "\n",
    "    return Observable(subscribe=_subscribe)"
   ]
  },
  {
   "cell_type": "markdown",
   "metadata": {},
   "source": [
    "## Examples"
   ]
  },
  {
   "cell_type": "markdown",
   "metadata": {},
   "source": [
    "### Empty stream"
   ]
  },
  {
   "cell_type": "code",
   "execution_count": 16,
   "metadata": {},
   "outputs": [
    {
     "name": "stdout",
     "output_type": "stream",
     "text": [
      "completed\n"
     ]
    },
    {
     "data": {
      "text/plain": [
       "<__main__.Subscription at 0x1065c35c0>"
      ]
     },
     "execution_count": 16,
     "metadata": {},
     "output_type": "execute_result"
    }
   ],
   "source": [
    "empty().subscribe(\n",
    "    next=lambda o: print(o),\n",
    "    complete=lambda: print('completed')\n",
    ")"
   ]
  },
  {
   "cell_type": "markdown",
   "metadata": {},
   "source": [
    "### Unique valued stream"
   ]
  },
  {
   "cell_type": "code",
   "execution_count": 17,
   "metadata": {},
   "outputs": [
    {
     "name": "stdout",
     "output_type": "stream",
     "text": [
      "coucou\n",
      "completed\n"
     ]
    },
    {
     "data": {
      "text/plain": [
       "<__main__.Subscription at 0x1065637a0>"
      ]
     },
     "execution_count": 17,
     "metadata": {},
     "output_type": "execute_result"
    }
   ],
   "source": [
    "of('coucou').subscribe(\n",
    "    next=lambda o: print(o),\n",
    "    complete=lambda: print('completed')\n",
    ")"
   ]
  },
  {
   "cell_type": "markdown",
   "metadata": {},
   "source": [
    "### Map values"
   ]
  },
  {
   "cell_type": "code",
   "execution_count": 18,
   "metadata": {},
   "outputs": [
    {
     "name": "stdout",
     "output_type": "stream",
     "text": [
      "10\n",
      "completed\n"
     ]
    },
    {
     "data": {
      "text/plain": [
       "<__main__.Subscription at 0x1065f0710>"
      ]
     },
     "execution_count": 18,
     "metadata": {},
     "output_type": "execute_result"
    }
   ],
   "source": [
    "of(5).map(func=lambda x: 2*x).subscribe(\n",
    "    next=lambda o: print(o),\n",
    "    complete=lambda: print('completed')\n",
    ")"
   ]
  },
  {
   "cell_type": "markdown",
   "metadata": {},
   "source": [
    "### Takes from range"
   ]
  },
  {
   "cell_type": "code",
   "execution_count": 19,
   "metadata": {},
   "outputs": [
    {
     "name": "stdout",
     "output_type": "stream",
     "text": [
      "1\n",
      "2\n",
      "3\n",
      "4\n",
      "5\n",
      "completed\n"
     ]
    },
    {
     "data": {
      "text/plain": [
       "<__main__.Subscription at 0x1065c3c80>"
      ]
     },
     "execution_count": 19,
     "metadata": {},
     "output_type": "execute_result"
    }
   ],
   "source": [
    "from_range(1, 10).take(5).subscribe(\n",
    "    next=lambda o: print(o),\n",
    "    complete=lambda: print('completed')\n",
    ")\n"
   ]
  },
  {
   "cell_type": "markdown",
   "metadata": {},
   "source": [
    "### Filter from range"
   ]
  },
  {
   "cell_type": "code",
   "execution_count": 20,
   "metadata": {},
   "outputs": [
    {
     "name": "stdout",
     "output_type": "stream",
     "text": [
      "2\n",
      "4\n",
      "6\n",
      "8\n",
      "completed\n"
     ]
    },
    {
     "data": {
      "text/plain": [
       "<__main__.Subscription at 0x10659a750>"
      ]
     },
     "execution_count": 20,
     "metadata": {},
     "output_type": "execute_result"
    }
   ],
   "source": [
    "from_range(1, 10).filter(lambda o: o%2==0).subscribe(\n",
    "    next=lambda o: print(o),\n",
    "    complete=lambda: print('completed')\n",
    ")"
   ]
  },
  {
   "cell_type": "markdown",
   "metadata": {},
   "source": [
    "### Takes from interval"
   ]
  },
  {
   "cell_type": "code",
   "execution_count": 21,
   "metadata": {},
   "outputs": [
    {
     "name": "stdout",
     "output_type": "stream",
     "text": [
      "1\n",
      "2\n",
      "3\n"
     ]
    },
    {
     "name": "stdout",
     "output_type": "stream",
     "text": [
      "completed\n"
     ]
    }
   ],
   "source": [
    "from_interval(period=1).take(3).map(lambda o: o+1).subscribe(\n",
    "    next=lambda o: print(o),\n",
    "    complete=lambda: print('completed')\n",
    ")\n",
    "\n",
    "sleep(3)"
   ]
  }
 ],
 "metadata": {
  "kernelspec": {
   "display_name": ".venv",
   "language": "python",
   "name": "python3"
  },
  "language_info": {
   "codemirror_mode": {
    "name": "ipython",
    "version": 3
   },
   "file_extension": ".py",
   "mimetype": "text/x-python",
   "name": "python",
   "nbconvert_exporter": "python",
   "pygments_lexer": "ipython3",
   "version": "3.12.8"
  }
 },
 "nbformat": 4,
 "nbformat_minor": 2
}

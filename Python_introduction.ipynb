{
  "nbformat": 4,
  "nbformat_minor": 0,
  "metadata": {
    "colab": {
      "name": "Python introduction.ipynb",
      "provenance": [],
      "authorship_tag": "ABX9TyOpSCDRzSKn8bctsXggKRcv",
      "include_colab_link": true
    },
    "kernelspec": {
      "name": "python3",
      "display_name": "Python 3"
    }
  },
  "cells": [
    {
      "cell_type": "markdown",
      "metadata": {
        "id": "view-in-github",
        "colab_type": "text"
      },
      "source": [
        "<a href=\"https://colab.research.google.com/github/Christux/Notebooks/blob/master/Python_introduction.ipynb\" target=\"_parent\"><img src=\"https://colab.research.google.com/assets/colab-badge.svg\" alt=\"Open In Colab\"/></a>"
      ]
    },
    {
      "cell_type": "markdown",
      "metadata": {
        "id": "xS_esGAzD5wY",
        "colab_type": "text"
      },
      "source": [
        "# Bienvenue sur Python"
      ]
    },
    {
      "cell_type": "code",
      "metadata": {
        "id": "kH_eNHmrDq_I",
        "colab_type": "code",
        "colab": {
          "base_uri": "https://localhost:8080/",
          "height": 34
        },
        "outputId": "db4528b9-5bbf-4f83-bf3b-002c6853e7fb"
      },
      "source": [
        "print(\"\"\"Hello World !\"\"\")"
      ],
      "execution_count": 2,
      "outputs": [
        {
          "output_type": "stream",
          "text": [
            "Hello World !\n"
          ],
          "name": "stdout"
        }
      ]
    }
  ]
}
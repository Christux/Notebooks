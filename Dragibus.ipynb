{
 "cells": [
  {
   "cell_type": "markdown",
   "id": "7b032727-24a6-4309-bb8c-c9d1822584b7",
   "metadata": {
    "id": "7b032727-24a6-4309-bb8c-c9d1822584b7"
   },
   "source": [
    "# Classement des Dragibus"
   ]
  },
  {
   "cell_type": "code",
   "execution_count": 1,
   "id": "10754ba6-1eb6-4131-8064-d68bc63ffa00",
   "metadata": {
    "executionInfo": {
     "elapsed": 253,
     "status": "ok",
     "timestamp": 1655725666217,
     "user": {
      "displayName": "Christophe Rubeck",
      "userId": "07066585408811508698"
     },
     "user_tz": -120
    },
    "id": "10754ba6-1eb6-4131-8064-d68bc63ffa00"
   },
   "outputs": [],
   "source": [
    "import numpy as np\n",
    "import pandas as pd\n",
    "import matplotlib.pyplot as plt"
   ]
  },
  {
   "cell_type": "markdown",
   "id": "b7dd9202-39aa-485f-879a-3608c5c2ee25",
   "metadata": {
    "id": "b7dd9202-39aa-485f-879a-3608c5c2ee25"
   },
   "source": [
    "## Données à classer"
   ]
  },
  {
   "cell_type": "code",
   "execution_count": 2,
   "id": "1a3674ed-4d7f-4b52-b26a-25b5d05f7eb5",
   "metadata": {
    "executionInfo": {
     "elapsed": 38,
     "status": "ok",
     "timestamp": 1655725666522,
     "user": {
      "displayName": "Christophe Rubeck",
      "userId": "07066585408811508698"
     },
     "user_tz": -120
    },
    "id": "1a3674ed-4d7f-4b52-b26a-25b5d05f7eb5"
   },
   "outputs": [],
   "source": [
    "data_df = pd.DataFrame([\n",
    "    ['Vert', 'Noir', -1],\n",
    "    ['Rouge', 'Vert', 0],\n",
    "    ['Noir', 'Vert', 1],\n",
    "    ['Jaune', 'Rouge', 0],\n",
    "    ['Rose', 'Noir', 1],\n",
    "    ['Jaune', 'Vert', -1],\n",
    "    ['Bleu', 'Vert', 1],\n",
    "    ['Bleu', 'Jaune', 1],\n",
    "    ['Rouge', 'Noir', 1],\n",
    "    ['Jaune', 'Rouge', 1],\n",
    "    ['Rose', 'Rouge', -1],\n",
    "    ['Noir', 'Bleu', 1],\n",
    "    ['Rouge', 'Noir', 1],\n",
    "], columns=['A', 'B', 'score'])"
   ]
  },
  {
   "cell_type": "markdown",
   "id": "uS0_ranm926c",
   "metadata": {
    "id": "uS0_ranm926c"
   },
   "source": [
    "## Classement, méthode matricielle"
   ]
  },
  {
   "cell_type": "code",
   "execution_count": 3,
   "id": "JhfYZyX2E3Yq",
   "metadata": {
    "colab": {
     "base_uri": "https://localhost:8080/"
    },
    "executionInfo": {
     "elapsed": 36,
     "status": "ok",
     "timestamp": 1655725666523,
     "user": {
      "displayName": "Christophe Rubeck",
      "userId": "07066585408811508698"
     },
     "user_tz": -120
    },
    "id": "JhfYZyX2E3Yq",
    "outputId": "76477d16-b1fa-480a-eee5-ce7fdfe8b0fc"
   },
   "outputs": [
    {
     "data": {
      "text/plain": [
       "['Bleu', 'Jaune', 'Noir', 'Rose', 'Rouge', 'Vert']"
      ]
     },
     "execution_count": 3,
     "metadata": {},
     "output_type": "execute_result"
    }
   ],
   "source": [
    "def get_colors(df, col_name_1, col_name_2):\n",
    "    return np.unique(\n",
    "        np.concatenate(\n",
    "            (df[col_name_1].values, df[col_name_2].values)\n",
    "            )\n",
    "        ).tolist()\n",
    "\n",
    "colors = get_colors(data_df, 'A', 'B')\n",
    "colors"
   ]
  },
  {
   "cell_type": "code",
   "execution_count": 4,
   "id": "NgsfJAHZE7va",
   "metadata": {
    "colab": {
     "base_uri": "https://localhost:8080/"
    },
    "executionInfo": {
     "elapsed": 33,
     "status": "ok",
     "timestamp": 1655725666525,
     "user": {
      "displayName": "Christophe Rubeck",
      "userId": "07066585408811508698"
     },
     "user_tz": -120
    },
    "id": "NgsfJAHZE7va",
    "outputId": "d4cd07e7-5bd0-4845-b326-2538e64f2945"
   },
   "outputs": [
    {
     "name": "stderr",
     "output_type": "stream",
     "text": [
      "/var/folders/16/byx7_ywj7qv0f_7r4jdpb3240000gn/T/ipykernel_35290/1275171312.py:12: FutureWarning: Series.__getitem__ treating keys as positions is deprecated. In a future version, integer keys will always be treated as labels (consistent with DataFrame behavior). To access a value by position, use `ser.iloc[pos]`\n",
      "  yield colors.index(row[0]), colors.index(row[1]), row[2]\n"
     ]
    },
    {
     "data": {
      "text/plain": [
       "[[[], [1], [-1], [], [], [1]],\n",
       " [[-1], [], [], [], [0, 1], [-1]],\n",
       " [[1], [], [], [-1], [-1, -1], [1, 1]],\n",
       " [[], [], [1], [], [-1], []],\n",
       " [[], [0, -1], [1, 1], [1], [], [0]],\n",
       " [[-1], [1], [-1, -1], [], [0], []]]"
      ]
     },
     "execution_count": 4,
     "metadata": {},
     "output_type": "execute_result"
    }
   ],
   "source": [
    "def create_matrix(n):\n",
    "    matrix = []\n",
    "    for i in range(0, n):\n",
    "        row = []    \n",
    "        for j in range(0, n):\n",
    "            row.append([])\n",
    "        matrix.append(row)\n",
    "    return matrix\n",
    "\n",
    "def iter_votes(df, colors):\n",
    "    for _, row in df.iterrows():\n",
    "        yield colors.index(row[0]), colors.index(row[1]), row[2]\n",
    "\n",
    "def populate_matrix(df, colors):\n",
    "    matrix = create_matrix(len(colors))\n",
    "    for i, j, value in iter_votes(df, colors):\n",
    "        matrix[i][j].append(value)\n",
    "        matrix[j][i].append(-1*value)\n",
    "    return matrix\n",
    "\n",
    "matrix = populate_matrix(data_df, colors)\n",
    "matrix"
   ]
  },
  {
   "cell_type": "code",
   "execution_count": 5,
   "id": "fo5McBXVLPD5",
   "metadata": {
    "colab": {
     "base_uri": "https://localhost:8080/",
     "height": 269
    },
    "executionInfo": {
     "elapsed": 26,
     "status": "ok",
     "timestamp": 1655725666526,
     "user": {
      "displayName": "Christophe Rubeck",
      "userId": "07066585408811508698"
     },
     "user_tz": -120
    },
    "id": "fo5McBXVLPD5",
    "outputId": "2d08bc97-ca07-481a-abbe-0304c4abc377"
   },
   "outputs": [
    {
     "data": {
      "text/html": [
       "<div>\n",
       "<style scoped>\n",
       "    .dataframe tbody tr th:only-of-type {\n",
       "        vertical-align: middle;\n",
       "    }\n",
       "\n",
       "    .dataframe tbody tr th {\n",
       "        vertical-align: top;\n",
       "    }\n",
       "\n",
       "    .dataframe thead th {\n",
       "        text-align: right;\n",
       "    }\n",
       "</style>\n",
       "<table border=\"1\" class=\"dataframe\">\n",
       "  <thead>\n",
       "    <tr style=\"text-align: right;\">\n",
       "      <th></th>\n",
       "      <th>Win</th>\n",
       "      <th>Lost</th>\n",
       "      <th>Draw</th>\n",
       "    </tr>\n",
       "    <tr>\n",
       "      <th>Color</th>\n",
       "      <th></th>\n",
       "      <th></th>\n",
       "      <th></th>\n",
       "    </tr>\n",
       "  </thead>\n",
       "  <tbody>\n",
       "    <tr>\n",
       "      <th>Bleu</th>\n",
       "      <td>2</td>\n",
       "      <td>1</td>\n",
       "      <td>0</td>\n",
       "    </tr>\n",
       "    <tr>\n",
       "      <th>Jaune</th>\n",
       "      <td>1</td>\n",
       "      <td>2</td>\n",
       "      <td>1</td>\n",
       "    </tr>\n",
       "    <tr>\n",
       "      <th>Noir</th>\n",
       "      <td>3</td>\n",
       "      <td>3</td>\n",
       "      <td>0</td>\n",
       "    </tr>\n",
       "    <tr>\n",
       "      <th>Rose</th>\n",
       "      <td>1</td>\n",
       "      <td>1</td>\n",
       "      <td>0</td>\n",
       "    </tr>\n",
       "    <tr>\n",
       "      <th>Rouge</th>\n",
       "      <td>3</td>\n",
       "      <td>1</td>\n",
       "      <td>2</td>\n",
       "    </tr>\n",
       "    <tr>\n",
       "      <th>Vert</th>\n",
       "      <td>1</td>\n",
       "      <td>3</td>\n",
       "      <td>1</td>\n",
       "    </tr>\n",
       "  </tbody>\n",
       "</table>\n",
       "</div>"
      ],
      "text/plain": [
       "       Win  Lost  Draw\n",
       "Color                 \n",
       "Bleu     2     1     0\n",
       "Jaune    1     2     1\n",
       "Noir     3     3     0\n",
       "Rose     1     1     0\n",
       "Rouge    3     1     2\n",
       "Vert     1     3     1"
      ]
     },
     "execution_count": 5,
     "metadata": {},
     "output_type": "execute_result"
    }
   ],
   "source": [
    "def get_number_wins(matrix):\n",
    "    wins = [0] * len(matrix)\n",
    "    losts = [0] * len(matrix)\n",
    "    draws = [0] * len(matrix)\n",
    "\n",
    "    for i in range(0, len(matrix)):\n",
    "        win = 0\n",
    "        lost = 0\n",
    "        draw = 0\n",
    "        for j in range(0, len(matrix)):\n",
    "            win = win + ((np.array(matrix[i][j]) * .5 + .5) == 1).sum()\n",
    "            lost = lost + ((np.array(matrix[i][j]) * -0.5 + .5) == 1).sum()\n",
    "            draw = draw + (np.array(matrix[i][j]) == 0).sum()\n",
    "        wins[i] = win\n",
    "        losts[i] = lost\n",
    "        draws[i] = draw\n",
    "    return wins, losts, draws\n",
    "\n",
    "wins, losts, draws = get_number_wins(matrix)\n",
    "\n",
    "synt = pd.DataFrame({\n",
    "    'Color': colors,\n",
    "    'Win': wins,\n",
    "    'Lost': losts,\n",
    "    'Draw': draws\n",
    "}).set_index('Color')\n",
    "\n",
    "synt"
   ]
  },
  {
   "cell_type": "markdown",
   "id": "at1MRcDxtZYO",
   "metadata": {
    "id": "at1MRcDxtZYO"
   },
   "source": [
    "### Classement naïf\n",
    "On fait simplement la moyenne des succés."
   ]
  },
  {
   "cell_type": "code",
   "execution_count": 6,
   "id": "cQ31MKCEtdPC",
   "metadata": {
    "colab": {
     "base_uri": "https://localhost:8080/",
     "height": 269
    },
    "executionInfo": {
     "elapsed": 385,
     "status": "ok",
     "timestamp": 1655725666891,
     "user": {
      "displayName": "Christophe Rubeck",
      "userId": "07066585408811508698"
     },
     "user_tz": -120
    },
    "id": "cQ31MKCEtdPC",
    "outputId": "e4387581-599d-4f55-9d6e-98f5c20a5b06"
   },
   "outputs": [
    {
     "data": {
      "text/html": [
       "<div>\n",
       "<style scoped>\n",
       "    .dataframe tbody tr th:only-of-type {\n",
       "        vertical-align: middle;\n",
       "    }\n",
       "\n",
       "    .dataframe tbody tr th {\n",
       "        vertical-align: top;\n",
       "    }\n",
       "\n",
       "    .dataframe thead th {\n",
       "        text-align: right;\n",
       "    }\n",
       "</style>\n",
       "<table border=\"1\" class=\"dataframe\">\n",
       "  <thead>\n",
       "    <tr style=\"text-align: right;\">\n",
       "      <th></th>\n",
       "      <th>Win</th>\n",
       "      <th>Lost</th>\n",
       "      <th>Draw</th>\n",
       "      <th>Points</th>\n",
       "    </tr>\n",
       "    <tr>\n",
       "      <th>Color</th>\n",
       "      <th></th>\n",
       "      <th></th>\n",
       "      <th></th>\n",
       "      <th></th>\n",
       "    </tr>\n",
       "  </thead>\n",
       "  <tbody>\n",
       "    <tr>\n",
       "      <th>Rouge</th>\n",
       "      <td>3</td>\n",
       "      <td>1</td>\n",
       "      <td>2</td>\n",
       "      <td>0.500000</td>\n",
       "    </tr>\n",
       "    <tr>\n",
       "      <th>Bleu</th>\n",
       "      <td>2</td>\n",
       "      <td>1</td>\n",
       "      <td>0</td>\n",
       "      <td>0.333333</td>\n",
       "    </tr>\n",
       "    <tr>\n",
       "      <th>Noir</th>\n",
       "      <td>3</td>\n",
       "      <td>3</td>\n",
       "      <td>0</td>\n",
       "      <td>0.000000</td>\n",
       "    </tr>\n",
       "    <tr>\n",
       "      <th>Rose</th>\n",
       "      <td>1</td>\n",
       "      <td>1</td>\n",
       "      <td>0</td>\n",
       "      <td>0.000000</td>\n",
       "    </tr>\n",
       "    <tr>\n",
       "      <th>Jaune</th>\n",
       "      <td>1</td>\n",
       "      <td>2</td>\n",
       "      <td>1</td>\n",
       "      <td>-0.333333</td>\n",
       "    </tr>\n",
       "    <tr>\n",
       "      <th>Vert</th>\n",
       "      <td>1</td>\n",
       "      <td>3</td>\n",
       "      <td>1</td>\n",
       "      <td>-0.500000</td>\n",
       "    </tr>\n",
       "  </tbody>\n",
       "</table>\n",
       "</div>"
      ],
      "text/plain": [
       "       Win  Lost  Draw    Points\n",
       "Color                           \n",
       "Rouge    3     1     2  0.500000\n",
       "Bleu     2     1     0  0.333333\n",
       "Noir     3     3     0  0.000000\n",
       "Rose     1     1     0  0.000000\n",
       "Jaune    1     2     1 -0.333333\n",
       "Vert     1     3     1 -0.500000"
      ]
     },
     "execution_count": 6,
     "metadata": {},
     "output_type": "execute_result"
    }
   ],
   "source": [
    "synt['Points'] = (synt['Win'] - synt['Lost']) / synt[['Win', 'Lost']].sum(axis=1)\n",
    "\n",
    "synt.sort_values(by='Points', ascending=False, inplace=True)\n",
    "\n",
    "synt"
   ]
  },
  {
   "cell_type": "markdown",
   "id": "ZDfe8nIIuwOA",
   "metadata": {
    "id": "ZDfe8nIIuwOA"
   },
   "source": [
    "Attention, ce classement ne tient pas compte de qui a battu qui !"
   ]
  },
  {
   "cell_type": "markdown",
   "id": "lYJ5TEVRTpPf",
   "metadata": {
    "id": "lYJ5TEVRTpPf"
   },
   "source": [
    "## Calcul des probabilités de gagner\n",
    "\n",
    "Inspiration de la méthode de Borda"
   ]
  },
  {
   "cell_type": "code",
   "execution_count": 7,
   "id": "LQOhV3_MIXxV",
   "metadata": {
    "colab": {
     "base_uri": "https://localhost:8080/",
     "height": 269
    },
    "executionInfo": {
     "elapsed": 91,
     "status": "ok",
     "timestamp": 1655725666893,
     "user": {
      "displayName": "Christophe Rubeck",
      "userId": "07066585408811508698"
     },
     "user_tz": -120
    },
    "id": "LQOhV3_MIXxV",
    "outputId": "03fd1a13-792f-49ab-82cc-4edaaff0e356"
   },
   "outputs": [
    {
     "data": {
      "text/html": [
       "<div>\n",
       "<style scoped>\n",
       "    .dataframe tbody tr th:only-of-type {\n",
       "        vertical-align: middle;\n",
       "    }\n",
       "\n",
       "    .dataframe tbody tr th {\n",
       "        vertical-align: top;\n",
       "    }\n",
       "\n",
       "    .dataframe thead th {\n",
       "        text-align: right;\n",
       "    }\n",
       "</style>\n",
       "<table border=\"1\" class=\"dataframe\">\n",
       "  <thead>\n",
       "    <tr style=\"text-align: right;\">\n",
       "      <th></th>\n",
       "      <th>Bleu</th>\n",
       "      <th>Jaune</th>\n",
       "      <th>Noir</th>\n",
       "      <th>Rose</th>\n",
       "      <th>Rouge</th>\n",
       "      <th>Vert</th>\n",
       "      <th>Total</th>\n",
       "      <th>Win</th>\n",
       "      <th>Lost</th>\n",
       "      <th>Draw</th>\n",
       "      <th>Points</th>\n",
       "    </tr>\n",
       "    <tr>\n",
       "      <th>Color</th>\n",
       "      <th></th>\n",
       "      <th></th>\n",
       "      <th></th>\n",
       "      <th></th>\n",
       "      <th></th>\n",
       "      <th></th>\n",
       "      <th></th>\n",
       "      <th></th>\n",
       "      <th></th>\n",
       "      <th></th>\n",
       "      <th></th>\n",
       "    </tr>\n",
       "  </thead>\n",
       "  <tbody>\n",
       "    <tr>\n",
       "      <th>Rouge</th>\n",
       "      <td>0.0</td>\n",
       "      <td>0.25</td>\n",
       "      <td>1.0</td>\n",
       "      <td>1.0</td>\n",
       "      <td>0.00</td>\n",
       "      <td>0.5</td>\n",
       "      <td>2.75</td>\n",
       "      <td>3</td>\n",
       "      <td>1</td>\n",
       "      <td>2</td>\n",
       "      <td>0.500000</td>\n",
       "    </tr>\n",
       "    <tr>\n",
       "      <th>Bleu</th>\n",
       "      <td>0.0</td>\n",
       "      <td>1.00</td>\n",
       "      <td>0.0</td>\n",
       "      <td>0.0</td>\n",
       "      <td>0.00</td>\n",
       "      <td>1.0</td>\n",
       "      <td>2.00</td>\n",
       "      <td>2</td>\n",
       "      <td>1</td>\n",
       "      <td>0</td>\n",
       "      <td>0.333333</td>\n",
       "    </tr>\n",
       "    <tr>\n",
       "      <th>Noir</th>\n",
       "      <td>1.0</td>\n",
       "      <td>0.00</td>\n",
       "      <td>0.0</td>\n",
       "      <td>0.0</td>\n",
       "      <td>0.00</td>\n",
       "      <td>1.0</td>\n",
       "      <td>2.00</td>\n",
       "      <td>3</td>\n",
       "      <td>3</td>\n",
       "      <td>0</td>\n",
       "      <td>0.000000</td>\n",
       "    </tr>\n",
       "    <tr>\n",
       "      <th>Vert</th>\n",
       "      <td>0.0</td>\n",
       "      <td>1.00</td>\n",
       "      <td>0.0</td>\n",
       "      <td>0.0</td>\n",
       "      <td>0.50</td>\n",
       "      <td>0.0</td>\n",
       "      <td>1.50</td>\n",
       "      <td>1</td>\n",
       "      <td>3</td>\n",
       "      <td>1</td>\n",
       "      <td>-0.500000</td>\n",
       "    </tr>\n",
       "    <tr>\n",
       "      <th>Rose</th>\n",
       "      <td>0.0</td>\n",
       "      <td>0.00</td>\n",
       "      <td>1.0</td>\n",
       "      <td>0.0</td>\n",
       "      <td>0.00</td>\n",
       "      <td>0.0</td>\n",
       "      <td>1.00</td>\n",
       "      <td>1</td>\n",
       "      <td>1</td>\n",
       "      <td>0</td>\n",
       "      <td>0.000000</td>\n",
       "    </tr>\n",
       "    <tr>\n",
       "      <th>Jaune</th>\n",
       "      <td>0.0</td>\n",
       "      <td>0.00</td>\n",
       "      <td>0.0</td>\n",
       "      <td>0.0</td>\n",
       "      <td>0.75</td>\n",
       "      <td>0.0</td>\n",
       "      <td>0.75</td>\n",
       "      <td>1</td>\n",
       "      <td>2</td>\n",
       "      <td>1</td>\n",
       "      <td>-0.333333</td>\n",
       "    </tr>\n",
       "  </tbody>\n",
       "</table>\n",
       "</div>"
      ],
      "text/plain": [
       "       Bleu  Jaune  Noir  Rose  Rouge  Vert  Total  Win  Lost  Draw    Points\n",
       "Color                                                                        \n",
       "Rouge   0.0   0.25   1.0   1.0   0.00   0.5   2.75    3     1     2  0.500000\n",
       "Bleu    0.0   1.00   0.0   0.0   0.00   1.0   2.00    2     1     0  0.333333\n",
       "Noir    1.0   0.00   0.0   0.0   0.00   1.0   2.00    3     3     0  0.000000\n",
       "Vert    0.0   1.00   0.0   0.0   0.50   0.0   1.50    1     3     1 -0.500000\n",
       "Rose    0.0   0.00   1.0   0.0   0.00   0.0   1.00    1     1     0  0.000000\n",
       "Jaune   0.0   0.00   0.0   0.0   0.75   0.0   0.75    1     2     1 -0.333333"
      ]
     },
     "execution_count": 7,
     "metadata": {},
     "output_type": "execute_result"
    }
   ],
   "source": [
    "def compute_proba(matrix):\n",
    "    proba = np.zeros((len(matrix), len(matrix)))\n",
    "    for i in range(0, len(matrix)): \n",
    "        for j in range(0, len(matrix)):\n",
    "            proba[i][j] = (np.array(matrix[i][j])*.5+.5).mean() if len(matrix[i][j]) > 0 else 0.\n",
    "    return proba\n",
    "\n",
    "proba = compute_proba(matrix)\n",
    "proba_df = pd.DataFrame(proba, columns=colors)\n",
    "proba_df['Color'] = pd.Series(colors)\n",
    "proba_df.set_index('Color', inplace=True)\n",
    "\n",
    "proba_df['Total'] = proba_df[colors].sum(axis=1)\n",
    "\n",
    "proba_df = proba_df.join(synt).sort_values(by='Total', ascending=False)\n",
    "\n",
    "proba_df"
   ]
  },
  {
   "cell_type": "markdown",
   "id": "XId2sqc6b1vP",
   "metadata": {
    "id": "XId2sqc6b1vP"
   },
   "source": [
    "Le faible nombre d'expérience biaise le score total, cf Rose qui devrait être dernier)\n",
    "\n",
    "==> Il faut pondérer la probabilité de gagner avec la probabilité de parier sur la couleur."
   ]
  },
  {
   "cell_type": "code",
   "execution_count": 8,
   "id": "crsztwYCIX-a",
   "metadata": {
    "colab": {
     "base_uri": "https://localhost:8080/",
     "height": 269
    },
    "executionInfo": {
     "elapsed": 76,
     "status": "ok",
     "timestamp": 1655725666894,
     "user": {
      "displayName": "Christophe Rubeck",
      "userId": "07066585408811508698"
     },
     "user_tz": -120
    },
    "id": "crsztwYCIX-a",
    "outputId": "c17296a3-97cd-4e7b-b178-2bde1b7f7cce"
   },
   "outputs": [
    {
     "data": {
      "text/html": [
       "<div>\n",
       "<style scoped>\n",
       "    .dataframe tbody tr th:only-of-type {\n",
       "        vertical-align: middle;\n",
       "    }\n",
       "\n",
       "    .dataframe tbody tr th {\n",
       "        vertical-align: top;\n",
       "    }\n",
       "\n",
       "    .dataframe thead th {\n",
       "        text-align: right;\n",
       "    }\n",
       "</style>\n",
       "<table border=\"1\" class=\"dataframe\">\n",
       "  <thead>\n",
       "    <tr style=\"text-align: right;\">\n",
       "      <th></th>\n",
       "      <th>Bleu</th>\n",
       "      <th>Jaune</th>\n",
       "      <th>Noir</th>\n",
       "      <th>Rose</th>\n",
       "      <th>Rouge</th>\n",
       "      <th>Vert</th>\n",
       "      <th>Total</th>\n",
       "      <th>Win</th>\n",
       "      <th>Lost</th>\n",
       "      <th>Draw</th>\n",
       "      <th>Points</th>\n",
       "      <th>Score</th>\n",
       "    </tr>\n",
       "    <tr>\n",
       "      <th>Color</th>\n",
       "      <th></th>\n",
       "      <th></th>\n",
       "      <th></th>\n",
       "      <th></th>\n",
       "      <th></th>\n",
       "      <th></th>\n",
       "      <th></th>\n",
       "      <th></th>\n",
       "      <th></th>\n",
       "      <th></th>\n",
       "      <th></th>\n",
       "      <th></th>\n",
       "    </tr>\n",
       "  </thead>\n",
       "  <tbody>\n",
       "    <tr>\n",
       "      <th>Noir</th>\n",
       "      <td>1.0</td>\n",
       "      <td>0.00</td>\n",
       "      <td>0.0</td>\n",
       "      <td>0.0</td>\n",
       "      <td>0.00</td>\n",
       "      <td>1.0</td>\n",
       "      <td>2.00</td>\n",
       "      <td>3</td>\n",
       "      <td>3</td>\n",
       "      <td>0</td>\n",
       "      <td>0.000000</td>\n",
       "      <td>0.923077</td>\n",
       "    </tr>\n",
       "    <tr>\n",
       "      <th>Rouge</th>\n",
       "      <td>0.0</td>\n",
       "      <td>0.25</td>\n",
       "      <td>1.0</td>\n",
       "      <td>1.0</td>\n",
       "      <td>0.00</td>\n",
       "      <td>0.5</td>\n",
       "      <td>2.75</td>\n",
       "      <td>3</td>\n",
       "      <td>1</td>\n",
       "      <td>2</td>\n",
       "      <td>0.500000</td>\n",
       "      <td>0.846154</td>\n",
       "    </tr>\n",
       "    <tr>\n",
       "      <th>Bleu</th>\n",
       "      <td>0.0</td>\n",
       "      <td>1.00</td>\n",
       "      <td>0.0</td>\n",
       "      <td>0.0</td>\n",
       "      <td>0.00</td>\n",
       "      <td>1.0</td>\n",
       "      <td>2.00</td>\n",
       "      <td>2</td>\n",
       "      <td>1</td>\n",
       "      <td>0</td>\n",
       "      <td>0.333333</td>\n",
       "      <td>0.461538</td>\n",
       "    </tr>\n",
       "    <tr>\n",
       "      <th>Vert</th>\n",
       "      <td>0.0</td>\n",
       "      <td>1.00</td>\n",
       "      <td>0.0</td>\n",
       "      <td>0.0</td>\n",
       "      <td>0.50</td>\n",
       "      <td>0.0</td>\n",
       "      <td>1.50</td>\n",
       "      <td>1</td>\n",
       "      <td>3</td>\n",
       "      <td>1</td>\n",
       "      <td>-0.500000</td>\n",
       "      <td>0.461538</td>\n",
       "    </tr>\n",
       "    <tr>\n",
       "      <th>Jaune</th>\n",
       "      <td>0.0</td>\n",
       "      <td>0.00</td>\n",
       "      <td>0.0</td>\n",
       "      <td>0.0</td>\n",
       "      <td>0.75</td>\n",
       "      <td>0.0</td>\n",
       "      <td>0.75</td>\n",
       "      <td>1</td>\n",
       "      <td>2</td>\n",
       "      <td>1</td>\n",
       "      <td>-0.333333</td>\n",
       "      <td>0.173077</td>\n",
       "    </tr>\n",
       "    <tr>\n",
       "      <th>Rose</th>\n",
       "      <td>0.0</td>\n",
       "      <td>0.00</td>\n",
       "      <td>1.0</td>\n",
       "      <td>0.0</td>\n",
       "      <td>0.00</td>\n",
       "      <td>0.0</td>\n",
       "      <td>1.00</td>\n",
       "      <td>1</td>\n",
       "      <td>1</td>\n",
       "      <td>0</td>\n",
       "      <td>0.000000</td>\n",
       "      <td>0.153846</td>\n",
       "    </tr>\n",
       "  </tbody>\n",
       "</table>\n",
       "</div>"
      ],
      "text/plain": [
       "       Bleu  Jaune  Noir  Rose  Rouge  Vert  Total  Win  Lost  Draw    Points  \\\n",
       "Color                                                                           \n",
       "Noir    1.0   0.00   0.0   0.0   0.00   1.0   2.00    3     3     0  0.000000   \n",
       "Rouge   0.0   0.25   1.0   1.0   0.00   0.5   2.75    3     1     2  0.500000   \n",
       "Bleu    0.0   1.00   0.0   0.0   0.00   1.0   2.00    2     1     0  0.333333   \n",
       "Vert    0.0   1.00   0.0   0.0   0.50   0.0   1.50    1     3     1 -0.500000   \n",
       "Jaune   0.0   0.00   0.0   0.0   0.75   0.0   0.75    1     2     1 -0.333333   \n",
       "Rose    0.0   0.00   1.0   0.0   0.00   0.0   1.00    1     1     0  0.000000   \n",
       "\n",
       "          Score  \n",
       "Color            \n",
       "Noir   0.923077  \n",
       "Rouge  0.846154  \n",
       "Bleu   0.461538  \n",
       "Vert   0.461538  \n",
       "Jaune  0.173077  \n",
       "Rose   0.153846  "
      ]
     },
     "execution_count": 8,
     "metadata": {},
     "output_type": "execute_result"
    }
   ],
   "source": [
    "n_exp = len(data_df)\n",
    "proba_df['Score'] = proba_df['Total'] * proba_df[['Win', 'Lost']].sum(axis=1) / n_exp\n",
    "proba_df.sort_values(by='Score', ascending=False, inplace=True)\n",
    "proba_df"
   ]
  },
  {
   "cell_type": "code",
   "execution_count": 9,
   "id": "JaiWm6RsIYCs",
   "metadata": {
    "colab": {
     "base_uri": "https://localhost:8080/"
    },
    "executionInfo": {
     "elapsed": 62,
     "status": "ok",
     "timestamp": 1655725666895,
     "user": {
      "displayName": "Christophe Rubeck",
      "userId": "07066585408811508698"
     },
     "user_tz": -120
    },
    "id": "JaiWm6RsIYCs",
    "outputId": "b653b3c5-d8af-4008-ae55-81ae417956a3"
   },
   "outputs": [
    {
     "data": {
      "text/plain": [
       "np.float64(10.0)"
      ]
     },
     "execution_count": 9,
     "metadata": {},
     "output_type": "execute_result"
    }
   ],
   "source": [
    "proba_df['Total'].sum()"
   ]
  },
  {
   "cell_type": "code",
   "execution_count": null,
   "id": "w3PW3oCOIYI5",
   "metadata": {
    "executionInfo": {
     "elapsed": 55,
     "status": "ok",
     "timestamp": 1655725666896,
     "user": {
      "displayName": "Christophe Rubeck",
      "userId": "07066585408811508698"
     },
     "user_tz": -120
    },
    "id": "w3PW3oCOIYI5"
   },
   "outputs": [],
   "source": []
  },
  {
   "cell_type": "markdown",
   "id": "c726e06c-b017-4756-b3ed-bff7ea5d4ea8",
   "metadata": {
    "id": "c726e06c-b017-4756-b3ed-bff7ea5d4ea8"
   },
   "source": [
    "## Méthode Elo\n",
    "\n",
    "Le classement Elo est un système d’évaluation comparatif du niveau de jeu des joueurs d’échecs, de go ou d’autres jeux en un contre un.\n",
    "\n",
    "Ce système est également utilisé pour le classement des équipes de football (depuis juillet 2018, mais de manière non officielle), ainsi que par de nombreux jeux en ligne. Tout joueur qui participe à ce type de compétition se voit attribuer un classement provisoire1, classement qui évoluera en fonction de ses performances, et qui reflète sa probabilité de gagner. "
   ]
  },
  {
   "cell_type": "code",
   "execution_count": 10,
   "id": "73f85d68-b09f-48ab-93cf-eeaf0ad25378",
   "metadata": {
    "executionInfo": {
     "elapsed": 55,
     "status": "ok",
     "timestamp": 1655725666898,
     "user": {
      "displayName": "Christophe Rubeck",
      "userId": "07066585408811508698"
     },
     "user_tz": -120
    },
    "id": "73f85d68-b09f-48ab-93cf-eeaf0ad25378"
   },
   "outputs": [],
   "source": [
    "class Elo:\n",
    "\n",
    "    def __init__(self, ratingDict={}, k:int=20):\n",
    "        self.ratingDict = ratingDict\n",
    "        self.k = k\n",
    "\n",
    "    def addPlayer(self,name,rating = 1500):\n",
    "        self.ratingDict[name] = rating\n",
    "\n",
    "    def gameOver(self, playerA, playerB, result):        \n",
    "        \n",
    "        # Rating players\n",
    "        rating_A = self.ratingDict[playerA]\n",
    "        rating_B = self.ratingDict[playerB]        \n",
    "        \n",
    "        # Expected result for player A\n",
    "        E_A = self.expectResult(rating_A, rating_B)        \n",
    "        \n",
    "        # Expected result for player B\n",
    "        E_B = 1 - E_A\n",
    "        \n",
    "        # Rating updates\n",
    "        self.ratingDict[playerA] = self.ratingDict[playerA] + self.k * ((1 + result) * .5 - E_A)\n",
    "        self.ratingDict[playerB] = self.ratingDict[playerB] + self.k * ((1 - result) * .5 - E_B)\n",
    "        \n",
    "    def expectResult(self, r1, r2):\n",
    "        exp = (r2 - r1) / 400.\n",
    "        return 1. / (pow(10., exp) + 1.)\n",
    "\n",
    "def validation():\n",
    "    # https://fr.wikipedia.org/wiki/Classement_Elo#Application_pratique\n",
    "    \n",
    "    # Payer 1 wins\n",
    "    elo = Elo({\n",
    "        'Player 1': 1800,\n",
    "        'Player 2': 2005\n",
    "    })\n",
    "    \n",
    "    elo.gameOver('Player 1', 'Player 2', 1)\n",
    "    \n",
    "    assert round(elo.ratingDict['Player 1']) == 1815 and round(elo.ratingDict['Player 2']) == 1990\n",
    "    \n",
    "    # Payer 1 wins\n",
    "    elo = Elo({\n",
    "        'Player 1': 1800,\n",
    "        'Player 2': 2005\n",
    "    })\n",
    "    \n",
    "    elo.gameOver('Player 2', 'Player 1', -1)\n",
    "    \n",
    "    assert round(elo.ratingDict['Player 1']) == 1815 and round(elo.ratingDict['Player 2']) == 1990\n",
    "    \n",
    "    # Draw\n",
    "    elo = Elo({\n",
    "        'Player 1': 1800,\n",
    "        'Player 2': 2005\n",
    "    })\n",
    "    \n",
    "    elo.gameOver('Player 1', 'Player 2', 0)\n",
    "    \n",
    "    assert round(elo.ratingDict['Player 1']) == 1805 and round(elo.ratingDict['Player 2']) == 2000\n",
    "    \n",
    "validation()"
   ]
  },
  {
   "cell_type": "code",
   "execution_count": 11,
   "id": "1d633590-5cb3-47f4-b214-48003be0586d",
   "metadata": {
    "executionInfo": {
     "elapsed": 53,
     "status": "ok",
     "timestamp": 1655725666899,
     "user": {
      "displayName": "Christophe Rubeck",
      "userId": "07066585408811508698"
     },
     "user_tz": -120
    },
    "id": "1d633590-5cb3-47f4-b214-48003be0586d"
   },
   "outputs": [
    {
     "name": "stderr",
     "output_type": "stream",
     "text": [
      "/var/folders/16/byx7_ywj7qv0f_7r4jdpb3240000gn/T/ipykernel_35290/2510990095.py:9: FutureWarning: Series.__getitem__ treating keys as positions is deprecated. In a future version, integer keys will always be treated as labels (consistent with DataFrame behavior). To access a value by position, use `ser.iloc[pos]`\n",
      "  elo.gameOver(row[0], row[1], row[2])\n"
     ]
    }
   ],
   "source": [
    "# Initialisation\n",
    "elo = Elo(k=100)\n",
    "\n",
    "for player in colors:\n",
    "    elo.addPlayer(player)\n",
    "\n",
    "# Entrainement du modèle\n",
    "for _, row in data_df.iterrows():\n",
    "    elo.gameOver(row[0], row[1], row[2])"
   ]
  },
  {
   "cell_type": "code",
   "execution_count": 12,
   "id": "65e4c7b3-5c40-4c01-b56e-75630330f59f",
   "metadata": {
    "colab": {
     "base_uri": "https://localhost:8080/",
     "height": 269
    },
    "executionInfo": {
     "elapsed": 52,
     "status": "ok",
     "timestamp": 1655725666899,
     "user": {
      "displayName": "Christophe Rubeck",
      "userId": "07066585408811508698"
     },
     "user_tz": -120
    },
    "id": "65e4c7b3-5c40-4c01-b56e-75630330f59f",
    "outputId": "d1d5489f-acf0-44d2-abe4-02d5b0c55aa6"
   },
   "outputs": [
    {
     "data": {
      "text/html": [
       "<div>\n",
       "<style scoped>\n",
       "    .dataframe tbody tr th:only-of-type {\n",
       "        vertical-align: middle;\n",
       "    }\n",
       "\n",
       "    .dataframe tbody tr th {\n",
       "        vertical-align: top;\n",
       "    }\n",
       "\n",
       "    .dataframe thead th {\n",
       "        text-align: right;\n",
       "    }\n",
       "</style>\n",
       "<table border=\"1\" class=\"dataframe\">\n",
       "  <thead>\n",
       "    <tr style=\"text-align: right;\">\n",
       "      <th></th>\n",
       "      <th>Win</th>\n",
       "      <th>Lost</th>\n",
       "      <th>Draw</th>\n",
       "      <th>Points</th>\n",
       "      <th>Rank</th>\n",
       "    </tr>\n",
       "    <tr>\n",
       "      <th>Color</th>\n",
       "      <th></th>\n",
       "      <th></th>\n",
       "      <th></th>\n",
       "      <th></th>\n",
       "      <th></th>\n",
       "    </tr>\n",
       "  </thead>\n",
       "  <tbody>\n",
       "    <tr>\n",
       "      <th>Rouge</th>\n",
       "      <td>3</td>\n",
       "      <td>1</td>\n",
       "      <td>2</td>\n",
       "      <td>0.500000</td>\n",
       "      <td>1589.708803</td>\n",
       "    </tr>\n",
       "    <tr>\n",
       "      <th>Bleu</th>\n",
       "      <td>2</td>\n",
       "      <td>1</td>\n",
       "      <td>0</td>\n",
       "      <td>0.333333</td>\n",
       "      <td>1516.507039</td>\n",
       "    </tr>\n",
       "    <tr>\n",
       "      <th>Rose</th>\n",
       "      <td>1</td>\n",
       "      <td>1</td>\n",
       "      <td>0</td>\n",
       "      <td>0.000000</td>\n",
       "      <td>1500.438033</td>\n",
       "    </tr>\n",
       "    <tr>\n",
       "      <th>Noir</th>\n",
       "      <td>3</td>\n",
       "      <td>3</td>\n",
       "      <td>0</td>\n",
       "      <td>0.000000</td>\n",
       "      <td>1486.475682</td>\n",
       "    </tr>\n",
       "    <tr>\n",
       "      <th>Jaune</th>\n",
       "      <td>1</td>\n",
       "      <td>2</td>\n",
       "      <td>1</td>\n",
       "      <td>-0.333333</td>\n",
       "      <td>1472.842841</td>\n",
       "    </tr>\n",
       "    <tr>\n",
       "      <th>Vert</th>\n",
       "      <td>1</td>\n",
       "      <td>3</td>\n",
       "      <td>1</td>\n",
       "      <td>-0.500000</td>\n",
       "      <td>1434.027602</td>\n",
       "    </tr>\n",
       "  </tbody>\n",
       "</table>\n",
       "</div>"
      ],
      "text/plain": [
       "       Win  Lost  Draw    Points         Rank\n",
       "Color                                        \n",
       "Rouge    3     1     2  0.500000  1589.708803\n",
       "Bleu     2     1     0  0.333333  1516.507039\n",
       "Rose     1     1     0  0.000000  1500.438033\n",
       "Noir     3     3     0  0.000000  1486.475682\n",
       "Jaune    1     2     1 -0.333333  1472.842841\n",
       "Vert     1     3     1 -0.500000  1434.027602"
      ]
     },
     "execution_count": 12,
     "metadata": {},
     "output_type": "execute_result"
    }
   ],
   "source": [
    "df_rank = synt.join(\n",
    "    pd.DataFrame.from_dict(elo.ratingDict, orient='index', columns=['Rank'])\n",
    ").sort_values(by='Rank', ascending=False)\n",
    "df_rank"
   ]
  },
  {
   "cell_type": "code",
   "execution_count": 13,
   "id": "4dbc16f9-2c27-4735-8781-bd449318818d",
   "metadata": {
    "colab": {
     "base_uri": "https://localhost:8080/"
    },
    "executionInfo": {
     "elapsed": 62,
     "status": "ok",
     "timestamp": 1655725666912,
     "user": {
      "displayName": "Christophe Rubeck",
      "userId": "07066585408811508698"
     },
     "user_tz": -120
    },
    "id": "4dbc16f9-2c27-4735-8781-bd449318818d",
    "outputId": "915c9a27-f2e5-4915-ee9d-1a709d6ba573"
   },
   "outputs": [
    {
     "data": {
      "text/plain": [
       "np.float64(1500.0)"
      ]
     },
     "execution_count": 13,
     "metadata": {},
     "output_type": "execute_result"
    }
   ],
   "source": [
    "df_rank['Rank'].mean()"
   ]
  },
  {
   "cell_type": "markdown",
   "id": "dE00rWff42LF",
   "metadata": {
    "id": "dE00rWff42LF"
   },
   "source": [
    "## Augmentation de la taille de l'échantillon"
   ]
  },
  {
   "cell_type": "code",
   "execution_count": null,
   "id": "5691aeb0-6626-477d-87f7-eb53bd61945e",
   "metadata": {
    "executionInfo": {
     "elapsed": 82,
     "status": "ok",
     "timestamp": 1655725666937,
     "user": {
      "displayName": "Christophe Rubeck",
      "userId": "07066585408811508698"
     },
     "user_tz": -120
    },
    "id": "5691aeb0-6626-477d-87f7-eb53bd61945e"
   },
   "outputs": [],
   "source": []
  }
 ],
 "metadata": {
  "colab": {
   "name": "Dragibus.ipynb",
   "provenance": []
  },
  "gpuClass": "standard",
  "kernelspec": {
   "display_name": ".venv",
   "language": "python",
   "name": "python3"
  },
  "language_info": {
   "codemirror_mode": {
    "name": "ipython",
    "version": 3
   },
   "file_extension": ".py",
   "mimetype": "text/x-python",
   "name": "python",
   "nbconvert_exporter": "python",
   "pygments_lexer": "ipython3",
   "version": "3.12.7"
  },
  "orig_nbformat": 4
 },
 "nbformat": 4,
 "nbformat_minor": 5
}
